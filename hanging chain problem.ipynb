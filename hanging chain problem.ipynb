{
 "cells": [
  {
   "cell_type": "markdown",
   "id": "b7ad2085",
   "metadata": {},
   "source": [
    "# bisection method"
   ]
  },
  {
   "cell_type": "code",
   "execution_count": 25,
   "id": "0c0d41fe",
   "metadata": {},
   "outputs": [
    {
     "name": "stdout",
     "output_type": "stream",
     "text": [
      "enter value for x1 1\n",
      "enter value for y1 6\n",
      "enter value for x2 6\n",
      "enter value for y2 6\n",
      "enter value for chain length 10\n",
      "enter max no of it 10\n",
      "enter req tolerance level 0.0001\n",
      "1.1634765624999999\n"
     ]
    }
   ],
   "source": [
    "import math\n",
    "import numpy as np\n",
    "\n",
    "\n",
    "x1=int(input(\"enter value for x1 \"))\n",
    "y1=int(input(\"enter value for y1 \"))\n",
    "x2=int(input(\"enter value for x2 \"))\n",
    "y2=int(input(\"enter value for y2 \"))\n",
    "l=int(input(\"enter value for chain length \")) \n",
    "nmax=int(input(\"enter max no of iteration \")) \n",
    "tol=float(input(\"enter req tolerance level \"))\n",
    "a=0.1\n",
    "b=10\n",
    "i=1\n",
    "\n",
    "def h_chain(m):\n",
    "    return(2*m*math.sinh((x2-x1)/(2*m))-math.sqrt((l**2)-((y2-y1)**2)))\n",
    "            \n",
    "while i<nmax:\n",
    "    c=(a+b)/2\n",
    "    f=h_chain(c)\n",
    "    if (f==0) or ((b-a)/2 < tol):\n",
    "        break\n",
    "    else:\n",
    "        i=i+1\n",
    "        if h_chain(c)*h_chain(a) >0:\n",
    "            a=c\n",
    "        else:\n",
    "            b=c \n",
    "print(c)            \n",
    "\n"
   ]
  },
  {
   "cell_type": "code",
   "execution_count": 46,
   "id": "5a0574b1",
   "metadata": {},
   "outputs": [
    {
     "name": "stdout",
     "output_type": "stream",
     "text": [
      "2.3189721069479123\n",
      "0.15998378900051813\n"
     ]
    }
   ],
   "source": [
    "import numpy as np\n",
    "x0=((x1+x2)/2)-(c/2)*np.log((l-(y2-y1)/(l+(y2-y1))))\n",
    "print(x0)\n",
    "y0=y1-c*((math.cosh(x1-x0))/c - 1)\n",
    "print(y0)\n",
    "X=np.linspace(x1,x2,1000)\n",
    "Y=np.zeros(len(X))\n",
    "for i in range (len(X)):\n",
    "    Y[i]=y0+c*((math.cosh(X[i]-x0))/c - 1)\n",
    "    "
   ]
  },
  {
   "cell_type": "code",
   "execution_count": 47,
   "id": "88f55921",
   "metadata": {},
   "outputs": [
    {
     "data": {
      "text/plain": [
       "[<matplotlib.lines.Line2D at 0x1b18c2eea60>]"
      ]
     },
     "execution_count": 47,
     "metadata": {},
     "output_type": "execute_result"
    },
    {
     "data": {
      "image/png": "[encoded data removed]",
      "text/plain": [
       "<Figure size 432x288 with 1 Axes>"
      ]
     },
     "metadata": {
      "needs_background": "light"
     },
     "output_type": "display_data"
    }
   ],
   "source": [
    "import matplotlib.pyplot as plt\n",
    "plt.plot(X,Y)"
   ]
  },
  {
   "cell_type": "code",
   "execution_count": 69,
   "id": "a5a1e0f9",
   "metadata": {},
   "outputs": [
    {
     "name": "stdout",
     "output_type": "stream",
     "text": [
      "enter value for x1 1\n",
      "enter value for y1 6\n",
      "enter value for x2 6\n",
      "enter value for y2 6\n",
      "enter value for chain length 10\n",
      "enter max no of iteration 30\n",
      "enter req tolerance level 0.0001\n",
      "[1.1481941738374664, 1.1481663416687031, 1.148201043453766, 1.148106490474359, 1.1481437692790437, 0.005622768812609369, 1.1481877227578359, 1.1481507689373038, 1.1481992216371086, 1.1481964252618913]\n",
      "[3, 2, 6, 9, 8, 1, 13, 5, 4, 7]\n"
     ]
    }
   ],
   "source": [
    "\n",
    "import numpy as np\n",
    "import scipy as sp\n",
    "import sympy as smp\n",
    "\n",
    "import math\n",
    "l2=[]\n",
    "l1=[]\n",
    "\n",
    "x1=int(input(\"enter value for x1 \"))\n",
    "y1=int(input(\"enter value for y1 \"))\n",
    "x2=int(input(\"enter value for x2 \"))\n",
    "y2=int(input(\"enter value for y2 \"))\n",
    "l=int(input(\"enter value for chain length \")) \n",
    "nmax=int(input(\"enter max no of iteration \")) \n",
    "tol=float(input(\"enter req tolerance level \"))\n",
    "\n",
    "\n",
    "def h_chain(m):\n",
    "    x,y,z,v,w,t=smp.symbols('x y z v w t',real='True')\n",
    "    f=(2*z*smp.sinh((y-x)/(2*z))-smp.sqrt((t**2)-((w-v)**2)))\n",
    "    feval=smp.lambdify([x,y,z,v,w,t],f)\n",
    "    f1=feval(x1,x2,m,y1,y2,l)\n",
    "    \n",
    "    dfdz=smp.diff(f,z)\n",
    "    feval_df=smp.lambdify([x,y,z,v,w,t],dfdz)\n",
    "    f2=feval_df(x1,x2,m,y1,y2,l)\n",
    "    c=a-(f1/f2)\n",
    "    return(c)\n",
    "u=[1,1.2,1.6,2,1.75,1.9,2.3,2.1,2.2,1.7]\n",
    "for t in range (len(u)):\n",
    "    a=u[t]\n",
    "    i=0\n",
    "    while i<nmax:\n",
    "        fun=h_chain(a)\n",
    "        if (fun==0) or (abs(a-fun) < tol):\n",
    "            break\n",
    "        else:\n",
    "            i=i+1\n",
    "            a=fun\n",
    "    l2.append(abs(a))        \n",
    "    l1.append(i)\n",
    "    t=t+1\n",
    "print(l2)\n",
    "print(l1)\n",
    "   "
   ]
  },
  {
   "cell_type": "code",
   "execution_count": 49,
   "id": "c5faf963",
   "metadata": {},
   "outputs": [
    {
     "data": {
      "text/plain": [
       "[<matplotlib.lines.Line2D at 0x1b18ca9c6a0>]"
      ]
     },
     "execution_count": 49,
     "metadata": {},
     "output_type": "execute_result"
    },
    {
     "data": {
      "image/png": "[encoded data removed]",
      "text/plain": [
       "<Figure size 432x288 with 1 Axes>"
      ]
     },
     "metadata": {
      "needs_background": "light"
     },
     "output_type": "display_data"
    }
   ],
   "source": [
    "import matplotlib.pyplot as plt\n",
    "plt.plot(X,Y)"
   ]
  },
  {
   "cell_type": "code",
   "execution_count": 74,
   "id": "e3f3c79c",
   "metadata": {},
   "outputs": [
    {
     "name": "stdout",
     "output_type": "stream",
     "text": [
      "enter value for x1 1\n",
      "enter value for y1 6\n",
      "enter value for x2 6\n",
      "enter value for y2 6\n",
      "enter value for chain length 10\n",
      "enter max no of iteration 30\n",
      "enter req tolerance level 0.0001\n",
      "[1.1481437683105469, 1.1482666015625, 1.1482513427734373, 1.1481826782226563, 1.148200225830078, 1.1481460571289064, 1.1482498168945314, 1.1481903076171875, 1.1482360839843748]\n",
      "[16, 16, 16, 16, 16, 16, 16, 16, 16]\n"
     ]
    }
   ],
   "source": [
    "import math\n",
    "import numpy as np\n",
    "\n",
    "\n",
    "x1=int(input(\"enter value for x1 \"))\n",
    "y1=int(input(\"enter value for y1 \"))\n",
    "x2=int(input(\"enter value for x2 \"))\n",
    "y2=int(input(\"enter value for y2 \"))\n",
    "l=int(input(\"enter value for chain length \")) \n",
    "nmax=int(input(\"enter max no of iteration \")) \n",
    "tol=float(input(\"enter req tolerance level \"))\n",
    "l1=[]\n",
    "l2=[]\n",
    "\n",
    "\n",
    "def h_chain(m):\n",
    "    return(2*m*math.sinh((x2-x1)/(2*m))-math.sqrt((l**2)-((y2-y1)**2)))\n",
    "\n",
    "a1=[0.1,0.2,0.3,0.4,0.5,0.6,0.7,0.8,0.9]\n",
    "b1=[10,9.8,9.5,9,8.6,8,8.9,8.4,8.1,7.5]\n",
    "for t in range (len(a1)):\n",
    "    a=a1[t]\n",
    "    b=b1[t]\n",
    "    i=0\n",
    "    while i<nmax:\n",
    "        c=(a+b)/2\n",
    "        f=h_chain(c)\n",
    "        if (f==0) or ((b-a)/2 < tol):\n",
    "            break\n",
    "        else:\n",
    "            i=i+1\n",
    "            if h_chain(c)*h_chain(a) >0:\n",
    "                a=c\n",
    "            else:\n",
    "                b=c\n",
    "    l1.append(c)\n",
    "    l2.append(i)\n",
    "    t=t+1\n",
    "print(l1)\n",
    "print(l2)\n",
    "\n"
   ]
  },
  {
   "cell_type": "code",
   "execution_count": 81,
   "id": "5168f1ed",
   "metadata": {},
   "outputs": [
    {
     "data": {
      "text/html": [
       "<div>\n",
       "<style scoped>\n",
       "    .dataframe tbody tr th:only-of-type {\n",
       "        vertical-align: middle;\n",
       "    }\n",
       "\n",
       "    .dataframe tbody tr th {\n",
       "        vertical-align: top;\n",
       "    }\n",
       "\n",
       "    .dataframe thead th {\n",
       "        text-align: right;\n",
       "    }\n",
       "</style>\n",
       "<table border=\"1\" class=\"dataframe\">\n",
       "  <thead>\n",
       "    <tr style=\"text-align: right;\">\n",
       "      <th></th>\n",
       "      <th>inital guess</th>\n",
       "    </tr>\n",
       "  </thead>\n",
       "  <tbody>\n",
       "    <tr>\n",
       "      <th>0</th>\n",
       "      <td>0.1</td>\n",
       "    </tr>\n",
       "    <tr>\n",
       "      <th>1</th>\n",
       "      <td>0.2</td>\n",
       "    </tr>\n",
       "    <tr>\n",
       "      <th>2</th>\n",
       "      <td>0.3</td>\n",
       "    </tr>\n",
       "    <tr>\n",
       "      <th>3</th>\n",
       "      <td>0.4</td>\n",
       "    </tr>\n",
       "    <tr>\n",
       "      <th>4</th>\n",
       "      <td>0.5</td>\n",
       "    </tr>\n",
       "    <tr>\n",
       "      <th>5</th>\n",
       "      <td>0.6</td>\n",
       "    </tr>\n",
       "    <tr>\n",
       "      <th>6</th>\n",
       "      <td>0.7</td>\n",
       "    </tr>\n",
       "    <tr>\n",
       "      <th>7</th>\n",
       "      <td>0.8</td>\n",
       "    </tr>\n",
       "    <tr>\n",
       "      <th>8</th>\n",
       "      <td>0.9</td>\n",
       "    </tr>\n",
       "  </tbody>\n",
       "</table>\n",
       "</div>"
      ],
      "text/plain": [
       "   inital guess\n",
       "0           0.1\n",
       "1           0.2\n",
       "2           0.3\n",
       "3           0.4\n",
       "4           0.5\n",
       "5           0.6\n",
       "6           0.7\n",
       "7           0.8\n",
       "8           0.9"
      ]
     },
     "execution_count": 81,
     "metadata": {},
     "output_type": "execute_result"
    }
   ],
   "source": [
    "import pandas as pd\n",
    "pd.DataFrame(a1,columns=[\"inital guess\"])"
   ]
  },
  {
   "cell_type": "code",
   "execution_count": null,
   "id": "d4ca949b",
   "metadata": {},
   "outputs": [],
   "source": []
  }
 ],
 "metadata": {
  "kernelspec": {
   "display_name": "Python 3 (ipykernel)",
   "language": "python",
   "name": "python3"
  },
  "language_info": {
   "codemirror_mode": {
    "name": "ipython",
    "version": 3
   },
   "file_extension": ".py",
   "mimetype": "text/x-python",
   "name": "python",
   "nbconvert_exporter": "python",
   "pygments_lexer": "ipython3",
   "version": "3.9.7"
  }
 },
 "nbformat": 4,
 "nbformat_minor": 5
}
