{
 "cells": [
  {
   "cell_type": "markdown",
   "id": "9f77cd54",
   "metadata": {},
   "source": [
    "# Finding minima of a given function"
   ]
  },
  {
   "cell_type": "code",
   "execution_count": 6,
   "id": "d579c588",
   "metadata": {},
   "outputs": [],
   "source": [
    "import math\n",
    "import numpy as np\n",
    "import pandas as pd\n",
    "import matplotlib.pyplot as plt\n",
    "import numpy as np\n",
    "import scipy as sp\n",
    "import sympy as smp"
   ]
  },
  {
   "cell_type": "code",
   "execution_count": 7,
   "id": "ecad72b3",
   "metadata": {},
   "outputs": [],
   "source": [
    "x1,x2=smp.symbols('x1,x2')\n",
    "f=(x1**2 - x2)**2 + (1-x1)**2 + x1*smp.exp(x2)          #input function\n",
    "#f=3*x1**2 + 4*x2**2 - 5*x1*x2\n",
    "tol=0.005 #given tolerance limit"
   ]
  },
  {
   "cell_type": "code",
   "execution_count": 8,
   "id": "0aa20d09",
   "metadata": {},
   "outputs": [
    {
     "name": "stdout",
     "output_type": "stream",
     "text": [
      "enter number of maximum iterarion: 30\n"
     ]
    }
   ],
   "source": [
    "n=int(input('enter number of maximum iterarion: '))"
   ]
  },
  {
   "cell_type": "code",
   "execution_count": 9,
   "id": "4994d37a",
   "metadata": {},
   "outputs": [
    {
     "name": "stdout",
     "output_type": "stream",
     "text": [
      "no of itration req:\n",
      "3\n",
      "min value of x1 and x2: \n",
      "[ 0.37994578 -0.03844856]\n",
      "min value of function is: \n",
      "0.7835004473860365\n"
     ]
    }
   ],
   "source": [
    "h=smp.zeros(2,2)\n",
    "x=[x1,x2]\n",
    "\n",
    "for i in range (0,2):                            #hessian matrix\n",
    "    for j in range (0,2):\n",
    "        if i==j:\n",
    "            f1=smp.diff(f,x[j])\n",
    "            h[i,j]=smp.diff(f1,x[j])  \n",
    "        elif i>j:\n",
    "            f1=smp.diff(f,x[i-1])\n",
    "            h[i,j]=smp.diff(f1,x[i])\n",
    "        elif j>i:\n",
    "            f1=smp.diff(f,x[j-1])\n",
    "            h[i,j]=smp.diff(f1,x[j])\n",
    "\n",
    "heval=smp.lambdify([x1,x2],h)\n",
    "\n",
    "xin=np.array([0.5,0.5])\n",
    "xnew=np.array([0,0])\n",
    "#delx=(np.array(xnew))-(np.array(xin))\n",
    "#delx=np.abs(delx)\n",
    "delx=np.linalg.norm(xnew-xin)\n",
    "#print(delx)\n",
    " \n",
    "for i in range (0,n):\n",
    "    if delx <= tol:\n",
    "        print('no of itration req:')\n",
    "        print(i)\n",
    "        print('min value of x1 and x2: ')\n",
    "        print(xin)\n",
    "        print('min value of function is: ')\n",
    "        feval=smp.lambdify([x1,x2],f)\n",
    "        f=feval(xin[0],xin[1])\n",
    "        print(f)\n",
    "        break\n",
    "    elif i>n:\n",
    "        print('maximum iteration reached ')\n",
    "    else:\n",
    "        heval=smp.lambdify([x1,x2],h)\n",
    "        f1=smp.diff(f,x1)\n",
    "        f2=smp.diff(f,x2)\n",
    "        f1eval=smp.lambdify([x1,x2],f1)\n",
    "        f2eval=smp.lambdify([x1,x2],f2)\n",
    "\n",
    "\n",
    "        f11=f1eval(xin[0],xin[1])\n",
    "        f22=f2eval(xin[0],xin[1])\n",
    "\n",
    "        f_grad=np.array([f11,f22])\n",
    "        f_gradt=np.transpose(f_grad)\n",
    "\n",
    "\n",
    "\n",
    "        h1=heval(xin[0],xin[1])\n",
    "        h1=np.array(h1)\n",
    "        h1_inver=np.linalg.inv(h1)\n",
    "        mul=np.dot(f_gradt,h1_inver)\n",
    "        xnew=xin-mul\n",
    "        delx=np.linalg.norm(mul)\n",
    "        xin=xnew\n",
    "\n",
    "\n",
    "\n"
   ]
  },
  {
   "cell_type": "code",
   "execution_count": 10,
   "id": "c337433a",
   "metadata": {},
   "outputs": [
    {
     "data": {
      "text/plain": [
       "array([-0.00066696,  0.00100002])"
      ]
     },
     "execution_count": 10,
     "metadata": {},
     "output_type": "execute_result"
    }
   ],
   "source": [
    "f_grad"
   ]
  },
  {
   "cell_type": "code",
   "execution_count": null,
   "id": "9227cb4f",
   "metadata": {},
   "outputs": [],
   "source": []
  }
 ],
 "metadata": {
  "kernelspec": {
   "display_name": "Python 3 (ipykernel)",
   "language": "python",
   "name": "python3"
  },
  "language_info": {
   "codemirror_mode": {
    "name": "ipython",
    "version": 3
   },
   "file_extension": ".py",
   "mimetype": "text/x-python",
   "name": "python",
   "nbconvert_exporter": "python",
   "pygments_lexer": "ipython3",
   "version": "3.9.7"
  }
 },
 "nbformat": 4,
 "nbformat_minor": 5
}
