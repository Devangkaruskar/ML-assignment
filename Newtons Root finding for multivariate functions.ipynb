{
 "cells": [
  {
   "cell_type": "markdown",
   "id": "235c07cf",
   "metadata": {},
   "source": [
    "# Newtons Root finding for multivariate functions"
   ]
  },
  {
   "cell_type": "code",
   "execution_count": 6,
   "id": "e033d047",
   "metadata": {},
   "outputs": [],
   "source": [
    "import math\n",
    "import numpy as np\n",
    "import pandas as pd\n",
    "import matplotlib.pyplot as plt\n",
    "import numpy as np\n",
    "import scipy as sp\n",
    "import sympy as smp"
   ]
  },
  {
   "cell_type": "code",
   "execution_count": 13,
   "id": "15165c0f",
   "metadata": {},
   "outputs": [
    {
     "name": "stdout",
     "output_type": "stream",
     "text": [
      "given function eq are given below: \n",
      "x1**2 + x2 - 37 \n",
      " x1 - x2**2 - 5 \n",
      " x1 + x2 + x3 - 3\n",
      "entre value for x1: 1\n",
      "entre value for x2: 2\n",
      "entre value for x3: 3\n",
      " no of iteration exceed\n"
     ]
    }
   ],
   "source": [
    "x1,x2,x3=smp.symbols('x1,x2,x3',real='True')\n",
    "f1=x1**2+x2-37\n",
    "f2=x1-x2**2-5\n",
    "f3=x1+x2+x3-3\n",
    "\n",
    "print('given function eq are given below: ')\n",
    "print(f1,'\\n',f2,'\\n',f3)\n",
    "f=[f1,f2,f3]\n",
    "x=[x1,x2,x3]\n",
    "n=len(f)\n",
    "t=len(x)\n",
    "total=n*t\n",
    "ja=smp.zeros(len(f),len(x))\n",
    "no=3\n",
    "\n",
    "for i in range (len(f)):                            #finding jacobian matrix\n",
    "    for k in range (len(x)):\n",
    "        ja[i,k]=smp.diff(f[i],x[k])\n",
    "\n",
    "\n",
    "t1=float(input('entre value for x1: '))             #input inital guess\n",
    "t2=float(input('entre value for x2: '))\n",
    "t3=float(input('entre value for x3: '))\n",
    "\n",
    "t=[t1,t2,t3]\n",
    "i=0\n",
    "tol=0.0001\n",
    "fe1=[]\n",
    "\n",
    "while True:\n",
    "    i=i+1\n",
    "    jaeval=smp.lambdify([x1,x2,x3],ja)\n",
    "    ja1=jaeval(t[0],t[1],t[2])\n",
    "\n",
    "    f1=[]\n",
    "    for l in range (0,n):\n",
    "        feveal=smp.lambdify([x1,x2,x3],f[l])\n",
    "        fe1=feveal(t[0],t[1],t[2])\n",
    "        f1.append(fe1)\n",
    "    f1=np.array(f1)\n",
    "\n",
    "    y=np.linalg.solve(ja1,-f1)\n",
    "    t=t+y\n",
    "\n",
    "    if np.linalg.norm(y,np.inf) < tol:\n",
    "        break\n",
    "        \n",
    "if i <=no:  \n",
    "    print('no of interation finding root is: ',i)\n",
    "    print('newtons root for given function is ',t) \n",
    "else:\n",
    "    print(' no of iteration exceed')"
   ]
  },
  {
   "cell_type": "code",
   "execution_count": null,
   "id": "5a521813",
   "metadata": {},
   "outputs": [],
   "source": []
  }
 ],
 "metadata": {
  "kernelspec": {
   "display_name": "Python 3 (ipykernel)",
   "language": "python",
   "name": "python3"
  },
  "language_info": {
   "codemirror_mode": {
    "name": "ipython",
    "version": 3
   },
   "file_extension": ".py",
   "mimetype": "text/x-python",
   "name": "python",
   "nbconvert_exporter": "python",
   "pygments_lexer": "ipython3",
   "version": "3.9.7"
  }
 },
 "nbformat": 4,
 "nbformat_minor": 5
}
